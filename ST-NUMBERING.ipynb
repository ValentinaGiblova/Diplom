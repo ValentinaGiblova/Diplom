{
 "cells": [
  {
   "cell_type": "code",
   "execution_count": 4,
   "metadata": {
    "collapsed": true
   },
   "outputs": [],
   "source": [
    "import networkx as nx"
   ]
  },
  {
   "cell_type": "code",
   "execution_count": 5,
   "metadata": {
    "collapsed": false
   },
   "outputs": [
    {
     "name": "stdout",
     "output_type": "stream",
     "text": [
      "[(1, 2), (1, 3), (1, 5), (1, 6), (2, 3), (2, 4), (2, 5), (3, 4), (3, 6), (4, 5), (4, 6), (5, 6)]\n"
     ]
    }
   ],
   "source": [
    "G1=nx.Graph()\n",
    "G1.add_edge(1,2)\n",
    "G1.add_edge(1,3)\n",
    "G1.add_edge(2,3)\n",
    "G1.add_edge(3,4)\n",
    "G1.add_edge(2,4)\n",
    "G1.add_edge(1,5)\n",
    "G1.add_edge(1,6)\n",
    "G1.add_edge(3,6)\n",
    "G1.add_edge(4,6)\n",
    "G1.add_edge(4,5)\n",
    "G1.add_edge(5,6)\n",
    "G1.add_edge(2,5)\n",
    "print G1.edges()"
   ]
  },
  {
   "cell_type": "code",
   "execution_count": 6,
   "metadata": {
    "collapsed": false
   },
   "outputs": [],
   "source": [
    "def Getting_Low(G, components=True):\n",
    "    # depth-first search algorithm to generate articulation points\n",
    "    # and biconnected components\n",
    "    visited = set()\n",
    "    for start in G:\n",
    "        if start in visited:\n",
    "            continue\n",
    "        discovery = {start:0}\n",
    "        low = {start:0}\n",
    "        root_children = 0\n",
    "        visited.add(start)\n",
    "        edge_stack = []\n",
    "        stack = [(start, start, iter(G[start]))]\n",
    "        while stack:\n",
    "            grandparent, parent, children = stack[-1]\n",
    "            try:\n",
    "                child = next(children)\n",
    "                if grandparent == child:\n",
    "                    continue\n",
    "                if child in visited:\n",
    "                    if discovery[child] <= discovery[parent]: # back edge\n",
    "                        low[parent] = min(low[parent],discovery[child])\n",
    "                       # return low\n",
    "                        if components:\n",
    "                            edge_stack.append((parent,child))\n",
    "                else:\n",
    "                    low[child] = discovery[child] = len(discovery)\n",
    "                    visited.add(child)\n",
    "                    stack.append((parent, child, iter(G[child])))\n",
    "                  \n",
    "                    if components:\n",
    "                        edge_stack.append((parent,child))\n",
    "            except StopIteration:\n",
    "                stack.pop()\n",
    "                if len(stack) > 1:\n",
    "                    if low[parent] >= discovery[grandparent]:\n",
    "                        if components:\n",
    "                            ind = edge_stack.index((grandparent,parent))\n",
    "                            #yield edge_stack[ind:]\n",
    "                            edge_stack=edge_stack[:ind]\n",
    "                        #else:\n",
    "                            #yield grandparent\n",
    "                    low[grandparent] = min(low[parent], low[grandparent])\n",
    "                 \n",
    "                elif stack: # length 1 so grandparent is root\n",
    "                    root_children += 1\n",
    "                    if components:\n",
    "                        ind = edge_stack.index((grandparent,parent))\n",
    "                        #yield edge_stack[ind:]\n",
    "        return low\n",
    "         "
   ]
  },
  {
   "cell_type": "code",
   "execution_count": 7,
   "metadata": {
    "collapsed": false
   },
   "outputs": [
    {
     "name": "stdout",
     "output_type": "stream",
     "text": [
      "{1: 0, 2: 0, 3: 0, 4: 0, 5: 0, 6: 0}\n"
     ]
    }
   ],
   "source": [
    "d={}\n",
    "d=Getting_Low(G1, components=True)\n",
    "print d"
   ]
  },
  {
   "cell_type": "code",
   "execution_count": 8,
   "metadata": {
    "collapsed": true
   },
   "outputs": [],
   "source": [
    "#проверка, если ли обратное ребро у потомка\n",
    "\n"
   ]
  },
  {
   "cell_type": "code",
   "execution_count": 9,
   "metadata": {
    "collapsed": true
   },
   "outputs": [],
   "source": [
    "def OrientedGraph(G1):\n",
    "    visited=[]\n",
    "    visited.append(1)\n",
    "    T=nx.dfs_tree(G1,1)\n",
    "    for i in G1.nodes():\n",
    "    \n",
    "        T1=nx.dfs_tree(G1,i)\n",
    "        arr=T1.edges()\n",
    "        \n",
    "        for j in arr:\n",
    "       \n",
    "            #if (j[0] not in  visited) and (j[1] not in  visited):\n",
    "            #print 'y',j[0],j[1]\n",
    "            T.add_edge(j[0],j[1])\n",
    "        T1=nx.Graph()\n",
    "        visited.append(i)\n",
    "        arr=[]\n",
    "    #print T.edges()\n",
    "    H=nx.Graph()\n",
    "    for i in T.edges():\n",
    "        if T.has_edge(i[1],i[0]):\n",
    "            arr.append(tuple((i[1],i[0])))\n",
    "\n",
    "    for i in arr:\n",
    "        H.add_edge(i[0],i[1])\n",
    "    #print H.edges()\n",
    "    for i in H.edges():\n",
    "        T.remove_edge(i[1],i[0])\n",
    "    #print T.edges()\n",
    "    return T\n",
    "    "
   ]
  },
  {
   "cell_type": "code",
   "execution_count": 10,
   "metadata": {
    "collapsed": false
   },
   "outputs": [
    {
     "name": "stdout",
     "output_type": "stream",
     "text": [
      "[(1, 2), (1, 3), (2, 3), (2, 4), (3, 4), (3, 6), (4, 5), (4, 6), (5, 1), (5, 6), (6, 1)]\n"
     ]
    }
   ],
   "source": [
    "T=OrientedGraph(G1)\n",
    "print T.edges()\n"
   ]
  },
  {
   "cell_type": "code",
   "execution_count": 11,
   "metadata": {
    "collapsed": false
   },
   "outputs": [
    {
     "name": "stdout",
     "output_type": "stream",
     "text": [
      "[1, 2, 3, 4, 5, 6]\n",
      "[1, 2, 3, 4, 5, 6]\n",
      "[(1, 2), (2, 3), (3, 4), (4, 5), (5, 6)]\n"
     ]
    }
   ],
   "source": [
    "T1=nx.dfs_tree(T,1)\n",
    "print list(nx.dfs_tree(T,1))\n",
    "a=(list(nx.dfs_preorder_nodes(T,1)))\n",
    "print a\n",
    "print T1.edges()"
   ]
  },
  {
   "cell_type": "code",
   "execution_count": 12,
   "metadata": {
    "collapsed": true
   },
   "outputs": [],
   "source": [
    "def Get_sink_sourse(T):\n",
    "    for i in T.nodes():\n",
    "        if len(T.successors(i))==1:\n",
    "            t=T.successors(i)\n",
    "            k=i\n",
    "    return t[0], k"
   ]
  },
  {
   "cell_type": "code",
   "execution_count": 13,
   "metadata": {
    "collapsed": false
   },
   "outputs": [
    {
     "name": "stdout",
     "output_type": "stream",
     "text": [
      "1 6\n"
     ]
    }
   ],
   "source": [
    "t,s=Get_sink_sourse(T)\n",
    "print t,s"
   ]
  },
  {
   "cell_type": "code",
   "execution_count": 20,
   "metadata": {
    "collapsed": false
   },
   "outputs": [
    {
     "name": "stdout",
     "output_type": "stream",
     "text": [
      "\n"
     ]
    }
   ],
   "source": [
    "s=Stack()\n",
    "#a.remove(1)\n",
    "s.push(s)\n",
    "s.push(t)\n",
    "#a.remove(1)"
   ]
  },
  {
   "cell_type": "code",
   "execution_count": 34,
   "metadata": {
    "collapsed": true
   },
   "outputs": [],
   "source": [
    "#make a dict where key is number of vertice and value is st-number\n",
    "st={}\n",
    "st[1]=1"
   ]
  },
  {
   "cell_type": "code",
   "execution_count": 35,
   "metadata": {
    "collapsed": false
   },
   "outputs": [
    {
     "name": "stdout",
     "output_type": "stream",
     "text": [
      "[1, 2, 3, 4, 5, 6]\n",
      "[6, 5, 4, 3, 2]\n",
      "[(1, 2), (2, 3), (3, 4), (4, 5), (5, 6)]\n",
      "s\n",
      "5\n"
     ]
    }
   ],
   "source": [
    "T1=nx.dfs_tree(T,t)\n",
    "print list(nx.dfs_tree(T,t))\n",
    "a=(list(nx.dfs_preorder_nodes(T,t)))\n",
    "arr=list(reversed(a))\n",
    "arr.remove(1)\n",
    "print arr\n",
    "print T1.edges()\n",
    "for i in arr:\n",
    "    s.push(i)\n",
    "print 's'\n",
    "print s.size()"
   ]
  },
  {
   "cell_type": "code",
   "execution_count": 36,
   "metadata": {
    "collapsed": false
   },
   "outputs": [
    {
     "name": "stdout",
     "output_type": "stream",
     "text": [
      "2\n",
      "{1: 1, 2: 2}\n",
      "3\n",
      "{1: 1, 2: 2, 3: 3}\n",
      "4\n",
      "{1: 1, 2: 2, 3: 3, 4: 4}\n",
      "5\n",
      "{1: 1, 2: 2, 3: 3, 4: 4, 5: 5}\n",
      "6\n",
      "{1: 1, 2: 2, 3: 3, 4: 4, 5: 5, 6: 6}\n"
     ]
    }
   ],
   "source": [
    "k=2\n",
    "while s.size()!=0:\n",
    "    st[s.pop()]=k\n",
    "    print k\n",
    "    k=k+1\n",
    "    print st"
   ]
  },
  {
   "cell_type": "code",
   "execution_count": null,
   "metadata": {
    "collapsed": true
   },
   "outputs": [],
   "source": [
    "def ST_numbering():\n",
    "    st={}\n",
    "    st[1]=1\n",
    "    T1=nx.dfs_tree(T,t)\n",
    "    #print list(nx.dfs_tree(T,t))\n",
    "    a=(list(nx.dfs_preorder_nodes(T,t)))\n",
    "    arr=list(reversed(a))\n",
    "    arr.remove(1)\n",
    "    #print arr\n",
    "    #print T1.edges()\n",
    "    for i in arr:\n",
    "        s.push(i)\n",
    "    #print 's'\n",
    "    #print s.size()\n",
    "    k=2\n",
    "    while s.size()!=0:\n",
    "        st[s.pop()]=k\n",
    "        #print k\n",
    "        k=k+1\n",
    "    return st"
   ]
  },
  {
   "cell_type": "code",
   "execution_count": 15,
   "metadata": {
    "collapsed": false
   },
   "outputs": [
    {
     "name": "stdout",
     "output_type": "stream",
     "text": [
      "[6, 1, 5, 4, 3, 2]\n",
      "2\n"
     ]
    }
   ],
   "source": [
    "arr=list(reversed(a))\n",
    "print arr\n",
    "for i in arr:\n",
    "    s.push(i)\n",
    "print s.pop()"
   ]
  },
  {
   "cell_type": "code",
   "execution_count": 23,
   "metadata": {
    "collapsed": false
   },
   "outputs": [
    {
     "ename": "TypeError",
     "evalue": "pop() takes exactly 1 argument (2 given)",
     "output_type": "error",
     "traceback": [
      "\u001b[1;31m---------------------------------------------------------------------------\u001b[0m",
      "\u001b[1;31mTypeError\u001b[0m                                 Traceback (most recent call last)",
      "\u001b[1;32m<ipython-input-23-198b6acc14d7>\u001b[0m in \u001b[0;36m<module>\u001b[1;34m()\u001b[0m\n\u001b[1;32m----> 1\u001b[1;33m \u001b[1;32mprint\u001b[0m \u001b[0ms\u001b[0m\u001b[1;33m.\u001b[0m\u001b[0mpop\u001b[0m\u001b[1;33m(\u001b[0m\u001b[1;36m1\u001b[0m\u001b[1;33m)\u001b[0m\u001b[1;33m\u001b[0m\u001b[0m\n\u001b[0m",
      "\u001b[1;31mTypeError\u001b[0m: pop() takes exactly 1 argument (2 given)"
     ]
    }
   ],
   "source": [
    "print s.pop(1)"
   ]
  },
  {
   "cell_type": "code",
   "execution_count": 15,
   "metadata": {
    "collapsed": false
   },
   "outputs": [],
   "source": [
    "class Stack:\n",
    "     def __init__(self):\n",
    "         self.items = []\n",
    "\n",
    "     def isEmpty(self):\n",
    "         return self.items == []\n",
    "\n",
    "     def push(self, item):\n",
    "         self.items.append(item)\n",
    "\n",
    "     def pop(self):\n",
    "         return self.items.pop()\n",
    "\n",
    "     def peek(self):\n",
    "         return self.items[len(self.items)-1]\n",
    "\n",
    "     def size(self):\n",
    "         return len(self.items)\n"
   ]
  },
  {
   "cell_type": "code",
   "execution_count": null,
   "metadata": {
    "collapsed": true
   },
   "outputs": [],
   "source": []
  }
 ],
 "metadata": {
  "kernelspec": {
   "display_name": "Python 2",
   "language": "python",
   "name": "python2"
  },
  "language_info": {
   "codemirror_mode": {
    "name": "ipython",
    "version": 2
   },
   "file_extension": ".py",
   "mimetype": "text/x-python",
   "name": "python",
   "nbconvert_exporter": "python",
   "pygments_lexer": "ipython2",
   "version": "2.7.12"
  }
 },
 "nbformat": 4,
 "nbformat_minor": 0
}
