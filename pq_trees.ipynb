{
 "cells": [
  {
   "cell_type": "code",
   "execution_count": 1,
   "metadata": {
    "collapsed": true
   },
   "outputs": [],
   "source": [
    "import networkx as nx"
   ]
  },
  {
   "cell_type": "code",
   "execution_count": 66,
   "metadata": {
    "collapsed": false
   },
   "outputs": [
    {
     "name": "stdout",
     "output_type": "stream",
     "text": [
      "[(1, 2), (1, 3), (1, 5), (1, 6), (2, 3), (2, 4), (2, 5), (3, 4), (3, 6), (4, 5), (4, 6), (5, 6)]\n"
     ]
    }
   ],
   "source": [
    "G1=nx.DiGraph()\n",
    "G1.add_edge(1,2)\n",
    "G1.add_edge(1,3)\n",
    "G1.add_edge(2,3)\n",
    "G1.add_edge(3,4)\n",
    "G1.add_edge(2,4)\n",
    "G1.add_edge(1,5)\n",
    "G1.add_edge(1,6)\n",
    "G1.add_edge(3,6)\n",
    "G1.add_edge(4,6)\n",
    "G1.add_edge(4,5)\n",
    "G1.add_edge(5,6)\n",
    "G1.add_edge(2,5)\n",
    "print G1.edges()"
   ]
  },
  {
   "cell_type": "code",
   "execution_count": 45,
   "metadata": {
    "collapsed": false
   },
   "outputs": [
    {
     "name": "stdout",
     "output_type": "stream",
     "text": [
      "[5, 6]\n"
     ]
    }
   ],
   "source": [
    "print G1.successors(4)\n"
   ]
  },
  {
   "cell_type": "code",
   "execution_count": 48,
   "metadata": {
    "collapsed": false
   },
   "outputs": [
    {
     "name": "stdout",
     "output_type": "stream",
     "text": [
      "[(1, 8), (1, 2), (1, 3), (1, 5), (2, 5), (3, 4), (4, 6), (5, 8), (6, 7), (7, 8)]\n"
     ]
    }
   ],
   "source": [
    "G1=nx.DiGraph()\n",
    "G1.add_edge(1,2)\n",
    "G1.add_edge(1,3)\n",
    "G1.add_edge(2,5)\n",
    "G1.add_edge(3,4)\n",
    "G1.add_edge(4,6)\n",
    "G1.add_edge(6,7)\n",
    "G1.add_edge(7,8)\n",
    "G1.add_edge(1,8)\n",
    "G1.add_edge(1,5)\n",
    "G1.add_edge(5,8)\n",
    "\n",
    "print G1.edges()"
   ]
  },
  {
   "cell_type": "code",
   "execution_count": 50,
   "metadata": {
    "collapsed": false
   },
   "outputs": [],
   "source": [
    "def gettinf_D_u_graph(G1):\n",
    "    GG=nx.DiGraph()\n",
    "    for i in G1.edges():\n",
    "        if i[0]<i[1]:\n",
    "            GG.add_edge(i[1],i[0])\n",
    "        else:\n",
    "            GG.add_edge(i[0],i[1])\n",
    "    #print GG.edges()\n",
    "    return GG"
   ]
  },
  {
   "cell_type": "code",
   "execution_count": 51,
   "metadata": {
    "collapsed": false
   },
   "outputs": [
    {
     "name": "stdout",
     "output_type": "stream",
     "text": [
      "[(2, 1), (3, 1), (4, 3), (5, 1), (5, 2), (6, 4), (7, 6), (8, 1), (8, 5), (8, 7)]\n"
     ]
    }
   ],
   "source": [
    "GG=gettinf_D_u_graph(G1)\n",
    "print GG.edges()"
   ]
  },
  {
   "cell_type": "code",
   "execution_count": 3,
   "metadata": {
    "collapsed": true
   },
   "outputs": [],
   "source": [
    "\n",
    "def template_L1(G,K,root):\n",
    "    p=0\n",
    "    #T=nx.DiGraph()\n",
    "    arr=G.successors(root)\n",
    "    for i in range(len(arr)):\n",
    "        if len(G.successors(arr[i]))==0:\n",
    "                p=p+1\n",
    "    #print 'p',p\n",
    "    if p==len(arr):\n",
    "        #T=G\n",
    "        K.remove_node(arr[0])\n",
    "        T.add_node('p',atr='full')\n",
    "        T.add_edge(root,'p')\n",
    "    print T.nodes()\n",
    "                 "
   ]
  },
  {
   "cell_type": "code",
   "execution_count": 4,
   "metadata": {
    "collapsed": true
   },
   "outputs": [],
   "source": [
    "def Getting_metcs(G):\n",
    "    for i in G.nodes():\n",
    "        if len(G.successors(i))==0:\n",
    "               G.add_node(i,atr='empty')\n",
    "        else:\n",
    "               G.add_node(i,atr='full')"
   ]
  },
  {
   "cell_type": "code",
   "execution_count": 5,
   "metadata": {
    "collapsed": true
   },
   "outputs": [],
   "source": [
    "def template_P1(G,root):\n",
    "    suc=G.successors(root)\n",
    "    arr=[]\n",
    "    l=0\n",
    "    a=filter(lambda (n, d): d['atr'] == 'full', G.nodes(data=True))\n",
    "    for i in range(len(a)):\n",
    "        arr.append(a[i][0])\n",
    "    for i in suc:\n",
    "        if i in arr:\n",
    "            l=l+1\n",
    "    if l==len(suc):\n",
    "        G.add_node(root,atr='full')\n",
    "    "
   ]
  },
  {
   "cell_type": "code",
   "execution_count": 6,
   "metadata": {
    "collapsed": false
   },
   "outputs": [
    {
     "name": "stdout",
     "output_type": "stream",
     "text": [
      "[(1, 8), (1, 2), (1, 3), (1, 5)]\n",
      "8\n"
     ]
    }
   ],
   "source": [
    "K=nx.DiGraph()\n",
    "K.add_node(1,atr1='p_node')\n",
    "for i in G1.successors(1):\n",
    "    K.add_edge(1,i)\n",
    "print K.edges()\n",
    "\n",
    "n=G1.nodes()[-1]\n",
    "print n"
   ]
  },
  {
   "cell_type": "code",
   "execution_count": 6,
   "metadata": {
    "collapsed": false
   },
   "outputs": [],
   "source": [
    "def Template_P2(G,K,root):\n",
    "    #n=len(G.nodes())\n",
    "    #n=(K.nodes())[-1]\n",
    "    l=n+1\n",
    "    #print l\n",
    "    d=Get_spisok_p_nodes(K,root)\n",
    "    d1=Get_spisok_q_nodes(K,root)\n",
    "    suc_root=K.successors(root)\n",
    "    full_child=[]\n",
    "    arr=[]\n",
    "    if len(suc_root)>=1 and len(d)>0 and len(d1)==0:\n",
    "        for i in suc_root:\n",
    "            if len(G.successors(i))>0:\n",
    "                full_child.append(i)\n",
    "        print 'fullchildren',full_child\n",
    "        K.add_node(l,atr1='p_node')\n",
    "        for i in full_child:\n",
    "            print 'i',i\n",
    "            if len(G.successors(i))>0:\n",
    "                arr.append(i)\n",
    "        print 'arr',arr\n",
    "        if len(arr)>=1:\n",
    "            suc=G.successors(arr[0])\n",
    "            for t in suc:\n",
    "                \n",
    "                K.add_edge(l,t)\n",
    "            K.remove_edge(root,arr[0])\n",
    "            K.add_edge(root,l)\n",
    "        return 1"
   ]
  },
  {
   "cell_type": "code",
   "execution_count": 14,
   "metadata": {
    "collapsed": false
   },
   "outputs": [
    {
     "name": "stdout",
     "output_type": "stream",
     "text": [
      "fullchildren [2, 3, 5]\n",
      "i 2\n",
      "i 3\n",
      "i 5\n",
      "arr [2, 3, 5]\n"
     ]
    },
    {
     "data": {
      "text/plain": [
       "1"
      ]
     },
     "execution_count": 14,
     "metadata": {},
     "output_type": "execute_result"
    }
   ],
   "source": [
    "Template_P2(G1,K,1)"
   ]
  },
  {
   "cell_type": "code",
   "execution_count": 15,
   "metadata": {
    "collapsed": false
   },
   "outputs": [
    {
     "name": "stdout",
     "output_type": "stream",
     "text": [
      "[(1, {'atr1': 'p_node'}), (2, {}), (3, {}), (5, {}), (8, {}), (9, {'atr1': 'p_node'})]\n",
      "[(1, 8), (1, 9), (1, 3), (1, 5), (9, 5)]\n"
     ]
    }
   ],
   "source": [
    "arr=list(K.nodes_iter(data=True))\n",
    "print arr\n",
    "print K.edges()\n",
    "#print G.edges()"
   ]
  },
  {
   "cell_type": "code",
   "execution_count": 7,
   "metadata": {
    "collapsed": true
   },
   "outputs": [],
   "source": [
    "def Get_spisok_p_nodes(K,root):\n",
    "    arr=list(K.nodes_iter(data=True))\n",
    "    d=[]\n",
    "    for i in range(len(arr)):\n",
    "        if arr[i][1].values()==['p_node']:\n",
    "            d.append(arr[i][0])\n",
    "    return d"
   ]
  },
  {
   "cell_type": "code",
   "execution_count": 8,
   "metadata": {
    "collapsed": false
   },
   "outputs": [],
   "source": [
    "def Template_P3(G,root,K):\n",
    "    #1case\n",
    "    op=[]\n",
    "    n=(K.nodes())[-1]\n",
    "    \n",
    "    b=n+1\n",
    "    #print 'b',b\n",
    "    d=Get_spisok_p_nodes(K,root)\n",
    "    print 'd',d\n",
    "    for i in list(K[root]):\n",
    "        if i in d:\n",
    "            #print i\n",
    "            op.append(i)\n",
    "            #print op\n",
    "    print 'op,list p',op\n",
    "    sl={}\n",
    "    if len(op)!=0:\n",
    "        p=op[0]\n",
    "        #print 'p',p\n",
    "        for i in K.successors(p):\n",
    "    #print K[7]\n",
    "            sl[i]=list(G[i])\n",
    "        mas=[]\n",
    "        m=0\n",
    "        print 'sl',sl\n",
    "        for l in sl.keys():\n",
    "        #print sl[l]\n",
    "        \n",
    "            if len(sl[l])!=0 and len(sl.keys())>=1:\n",
    "                m=m+1\n",
    "            print 'm',m\n",
    "        if m>=1:\n",
    "    \n",
    "            for i in K[root]:\n",
    "                for j in sl.keys():\n",
    "                    if i==j:\n",
    "                        mas.append(i)\n",
    "            ind=mas[0]#повторяющийся в pq и в root\n",
    "            \n",
    "            K.add_node(b,atr1='q_node')\n",
    "            K.add_edge(root,b)\n",
    "            K.add_edge(b,p)\n",
    "            K.add_edge(b,ind)\n",
    "           # K.add_edge(b,ind)\n",
    "            K.remove_edge(p,ind)\n",
    "            K.remove_edge(root,p)\n",
    "            K.remove_edge(root,ind)\n",
    "            #for h in K.successors(p):\n",
    "            #    K.add_edge(p,h)\n",
    "            return 1\n",
    "    #если p-node has one full child and one empty child\n",
    "        if m==1 and len(sl.keys())==2:\n",
    "            K.remove_edge(root,p)\n",
    "            K.add_node(b,atr1='q_node')\n",
    "            K.add_edge(b,p)\n",
    "            K.add_edge(root,b)\n",
    "            for i in sl.keys():\n",
    "                K.add_edge(b,i)\n",
    "            return 1\n",
    "    \n",
    "            "
   ]
  },
  {
   "cell_type": "code",
   "execution_count": 445,
   "metadata": {
    "collapsed": false
   },
   "outputs": [
    {
     "name": "stdout",
     "output_type": "stream",
     "text": [
      "[]\n"
     ]
    }
   ],
   "source": [
    "print list(K[7])"
   ]
  },
  {
   "cell_type": "code",
   "execution_count": 17,
   "metadata": {
    "collapsed": false
   },
   "outputs": [
    {
     "name": "stdout",
     "output_type": "stream",
     "text": [
      "d [1, 9]\n",
      "op,list p [9]\n",
      "sl {5: [8]}\n",
      "m 1\n"
     ]
    },
    {
     "data": {
      "text/plain": [
       "1"
      ]
     },
     "execution_count": 17,
     "metadata": {},
     "output_type": "execute_result"
    }
   ],
   "source": [
    "Template_P3(G1,1,K)"
   ]
  },
  {
   "cell_type": "code",
   "execution_count": 18,
   "metadata": {
    "collapsed": false
   },
   "outputs": [
    {
     "name": "stdout",
     "output_type": "stream",
     "text": [
      "[(1, {'atr1': 'p_node'}), (2, {}), (3, {}), (5, {}), (8, {}), (9, {'atr1': 'p_node'}), (10, {'atr1': 'q_node'})]\n",
      "[(1, 8), (1, 10), (1, 3), (10, 9), (10, 5)]\n"
     ]
    }
   ],
   "source": [
    "arr=list(K.nodes_iter(data=True))\n",
    "print arr\n",
    "print K.edges()\n",
    "#print G.edges()"
   ]
  },
  {
   "cell_type": "code",
   "execution_count": 458,
   "metadata": {
    "collapsed": false
   },
   "outputs": [
    {
     "name": "stdout",
     "output_type": "stream",
     "text": [
      "[7]\n"
     ]
    }
   ],
   "source": [
    "#add_new_vertex_to_tree(K,G1,1,7)\n",
    "print G.successors(9)"
   ]
  },
  {
   "cell_type": "code",
   "execution_count": 9,
   "metadata": {
    "collapsed": true
   },
   "outputs": [],
   "source": [
    "def Get_spisok_q_nodes(K,root):\n",
    "    arr=list(K.nodes_iter(data=True))\n",
    "    d=[]\n",
    "    for i in range(len(arr)):\n",
    "        if arr[i][1].values()==['q_node']:\n",
    "            d.append(arr[i][0])\n",
    "    return d\n",
    "        "
   ]
  },
  {
   "cell_type": "code",
   "execution_count": 10,
   "metadata": {
    "collapsed": true
   },
   "outputs": [],
   "source": [
    "def Template_P4(K,G1,root):\n",
    "    #Template P4\n",
    "#находим индекс q_node\n",
    "    d=Get_spisok_q_nodes(K,1)\n",
    "    n=(K.nodes())[-1]\n",
    "    p=n+1\n",
    "#находим всех остальных детей рута\n",
    "    ost_child=[]\n",
    "    if len(d)!=0:\n",
    "        arr=list(K[1])\n",
    "        for i in arr:\n",
    "            if i not in d:\n",
    "                ost_child.append(i)\n",
    "    #print ost_child\n",
    "#находим индексы элементов детей, у которых есть потомки\n",
    "    child_with_child=[]\n",
    "    child_without_child=[]\n",
    "    for i in ost_child:\n",
    "        if len(G1.successors(i))>=1:\n",
    "            child_with_child.append(i)\n",
    "        \n",
    "            K.remove_edge(root,i)\n",
    "        if len(G1.successors(i))==0:\n",
    "            child_without_child.append(i)\n",
    "    if len(child_with_child)==1:\n",
    "        K.add_edge(d[0],child_with_child[0])\n",
    "        return 1\n",
    "    if len(child_with_child)>=2:\n",
    "        K.add_edge(d[0],p)\n",
    "        for i in child_with_child:\n",
    "            K.add_edge(d[0],i)\n",
    "        return 1\n",
    "    if len(child_with_child)>=2 and len(child_without_child)==0:\n",
    "        for i in child_with_child:\n",
    "            K.remove_edge(i)\n",
    "        K.add_node(p,atr1='p_node')\n",
    "        for i in child_with_child:\n",
    "            K.add_edge(p,i)\n",
    "        K.remove_node(root)\n",
    "        return 1\n",
    "    \n"
   ]
  },
  {
   "cell_type": "code",
   "execution_count": 11,
   "metadata": {
    "collapsed": true
   },
   "outputs": [],
   "source": [
    "def Template_5(K,G1,root):\n",
    "    d=Get_spisok_q_nodes(K,root)\n",
    "    d1=Get_spisok_p_nodes(K,root)\n",
    "    if len(d1)==1:\n",
    "        \n",
    "        current_root=d1[0]\n",
    "        ind_d=[]\n",
    "        child_current_root=[]\n",
    "    #K.successors(current_root)\n",
    "        full_child=[]\n",
    "        empty_child=[]\n",
    "        n=(K.nodes())[-1]\n",
    "        p=n+1\n",
    "        if len(d)!=0 and len(K.successors(current_root))>=2:\n",
    "            for j in d:\n",
    "                for i in K.successors(current_root):\n",
    "                    if j in i:\n",
    "                        ind_d.append(j)\n",
    "            if len(ind_d)==1:\n",
    "                for k in K.successors(current_root):\n",
    "                    if len(G1.successors(k))==0:\n",
    "                        empty_child.append(k)\n",
    "                    if len(G1.successors(k))!=0:\n",
    "                        full_child.append(k)\n",
    "            #1case*******************\n",
    "                if len(empty_child)>=2 and len(full_child)>=2:\n",
    "                    K.add_node(p,atr1='p_node')\n",
    "                    K.add_edge(ind_d[0],p)\n",
    "                    for i in empty_child:\n",
    "                        K.add_edge(p,i)\n",
    "                    K.add_edge(root.ind_d[0])\n",
    "                    K.remove_node(current_root)\n",
    "                \n",
    "                    K.add_node(p+1,atr1='p_node')\n",
    "                    K.add_edge(ind_d[0],p+1)\n",
    "                    for i in full_child:\n",
    "                        K.add_edge(p+1,i)\n",
    "                \n",
    "            # 2 case****************\n",
    "                if len(empty_child)>=2 and len(full_child)==1:\n",
    "                    K.add_node(p,atr1='p_node')\n",
    "                    K.add_edge(ind_d[0],p)\n",
    "                    for i in empty_child:\n",
    "                        K.add_edge(p,i)\n",
    "                    K.add_edge(root.ind_d[0])\n",
    "                    K.remove_node(current_root)\n",
    "                    K.add_edge(ind_d[0],full_child[0])\n",
    "            #3 case***************** \n",
    "                if len(empty_child)>=2 and len(full_child)==0:\n",
    "                    K.add_node(p,atr1='p_node')\n",
    "                    K.add_edge(ind_d[0],p)\n",
    "                    for i in empty_child:\n",
    "                        K.add_edge(p,i)\n",
    "                    K.add_edge(root.ind_d[0])\n",
    "                    K.remove_node(current_root)\n",
    "            return 1\n"
   ]
  },
  {
   "cell_type": "code",
   "execution_count": 12,
   "metadata": {
    "collapsed": true
   },
   "outputs": [],
   "source": [
    "def Template_6(root,K,G1):\n",
    "    d=Get_spisok_q_nodes(K,root)\n",
    "    ind_d=[]\n",
    "    full_child=[]\n",
    "    empty_child=[]\n",
    "    children=[]\n",
    "    n=(K.nodes())[-1]\n",
    "    ch=[]\n",
    "    if len(d)==2:\n",
    "        for i in K.successors(root):\n",
    "            if i not in d:\n",
    "                children.append(i)\n",
    "        for i in children:\n",
    "            if len(G1.successors(i))==0:\n",
    "                empty_child.append(i)\n",
    "            if len(G1.successors(i))>=1:\n",
    "                full_child.append(i)\n",
    "        #1 case when all empty children\n",
    "        if len(children)==len(empty_child):\n",
    "            p=n+1\n",
    "            K.add_node(p,atr1='q_node')\n",
    "            for i in d:\n",
    "                ch.append(K.successors(i))\n",
    "            for i in ch:\n",
    "                K.add_edge(p,i)\n",
    "            K.add_edge(root,p)\n",
    "            for i in d:\n",
    "                K.remove_node(i)\n",
    "                \n",
    "        #2case no empty childre\n",
    "        \n",
    "        if len(children)==len(full_child):\n",
    "            p=n+1\n",
    "            K.add_node(p, atr1='p_node')\n",
    "            for i in full_child:\n",
    "                K.add_edge(p,i)\n",
    "            for i in d:\n",
    "                ch.append(K.successors(i))\n",
    "            K.add_node(p+1,atr1='q_node')\n",
    "            for i in ch:\n",
    "                K.add_edge(p+1,i)\n",
    "            K.add_edge(p+1,p)\n",
    "            K.remove_node(root)\n",
    "            for i in d:\n",
    "                K.remove_node(i)\n",
    "        #3 case where exist empty and full children\n",
    "        if len(full_child)>=2 and len(empty_child)>=2:\n",
    "            p=n+1\n",
    "            K.add_node(p,atr1='p_node')\n",
    "            for i in full_child:\n",
    "                K.add_edge(p,i)\n",
    "            for i in d:\n",
    "                ch.append(K.successors(i))\n",
    "            K.add_node(p+1,atr1='q_node')\n",
    "            for i in ch:\n",
    "                K.add_edge(p+1,i)\n",
    "            K.add_edge(root,p+1)\n",
    "            for i in d:\n",
    "                K.remove_node(i)\n",
    "        return 1\n",
    "      "
   ]
  },
  {
   "cell_type": "code",
   "execution_count": 13,
   "metadata": {
    "collapsed": true
   },
   "outputs": [],
   "source": [
    "def Template_Q1(K,G1,root):\n",
    "    d=Get_spisok_q_nodes(K,root)\n",
    "    ch=[]\n",
    "    suc=[]\n",
    "    p=0\n",
    "    if len(d)>=1:\n",
    "        for i in d:\n",
    "            ch.append(K.successors(i))\n",
    "            for j in ch:\n",
    "                if K.successors(j)!=0:\n",
    "                    p=p+1\n",
    "            if p==len(ch):\n",
    "                K.add_node(i,atr1='q_node',atr='full')\n",
    "                "
   ]
  },
  {
   "cell_type": "code",
   "execution_count": 14,
   "metadata": {
    "collapsed": true
   },
   "outputs": [],
   "source": [
    "def fist_Case(K,G1,root):\n",
    "    #когда у q node есть два p нода и нужно детей p нодов добавить в q а сами p ноды удалить\n",
    "    d=Get_spisok_q_nodes(K,root)\n",
    "    #print 'd',d\n",
    "    #ch=[]\n",
    "    arr_p=[]\n",
    "    p=0\n",
    "    suc_p=[]\n",
    "    ind_q=0\n",
    "    d1=Get_spisok_p_nodes(K,root)\n",
    "    #print 'd1',d1\n",
    "    for i in d:\n",
    "        ch=K.successors(i)\n",
    "        for j in ch:\n",
    "            if j in d1:\n",
    "                arr_p.append(j)\n",
    "    #print 'arr_p',arr_p\n",
    "        if len(arr_p)>=1:\n",
    "            ind_q=i\n",
    "            #print 'ind_q',ind_q\n",
    "            for m in arr_p:\n",
    "                suc_p=(K.successors(m))\n",
    "                #print 'suc_p',suc_p[1]\n",
    "                for t in suc_p:\n",
    "                    K.add_edge(ind_q,t)\n",
    "                #print 't',t\n",
    "            for k in arr_p:\n",
    "                K.remove_node(k)\n",
    "            return 1\n"
   ]
  },
  {
   "cell_type": "code",
   "execution_count": 15,
   "metadata": {
    "collapsed": true
   },
   "outputs": [],
   "source": [
    "# случай, когда у нас есть P-node у корня, и есть Q node тогда добавяляем эту P-ноду к Q ноду, если детей у P ноды больше чем 2,\n",
    "#если только один, то просто добавляем P ноду с детьми к q НОДУ\n",
    "def second_Case(K,G1,root):\n",
    "    #когда у q node есть два p нода и нужно детей p нодов добавить в q а сами p ноды удалить\n",
    "    d=Get_spisok_q_nodes(K,root)\n",
    "    print 'd',d\n",
    "    n=(K.nodes())[-1]\n",
    "    l=n+1\n",
    "    d1=Get_spisok_p_nodes(K,root)\n",
    "    d1.remove(1)\n",
    "    print 'd1',d1\n",
    "    #print 'd1',d1\\\n",
    "    if len(d1)!=0 and len(d)!=0:\n",
    "        if len(d)==1:\n",
    "            ch_q=K.successors(d[0])\n",
    "            for m in ch_q:\n",
    "                if m not in d1:\n",
    "                    ch=K.successors(m)\n",
    "                    if len(ch)>=2:\n",
    "                        K.add_node(l,atr1='p_node')\n",
    "                        K.add_edge(d[0],l)\n",
    "                        K.remove_node(d1[0])\n",
    "                        for k in ch:\n",
    "                            K.add_edge(l,k)\n",
    "                    if len(ch)==1:\n",
    "                        K.add_edge(d[0],ch[0])\n",
    "                        K.remove_edge(root,d1[0])\n",
    "            return 1\n",
    "                    \n",
    "            \n",
    "        \n",
    "    "
   ]
  },
  {
   "cell_type": "code",
   "execution_count": 16,
   "metadata": {
    "collapsed": true
   },
   "outputs": [],
   "source": [
    "def add_new_vertex_to_tree(K,G1,root,vertex):\n",
    "    n=(K.nodes())[-1]\n",
    "    l=n+1\n",
    "    #Фомируем список имеющихся q нодов, находим у них потомков, если добавляемая вершина находится в списке, то сохраняем индекс этого \n",
    "    #нода, добавляем новый pузел и кладем туда детей добавленной вершины, ребро и вершину из самого дерева убираем\n",
    "    #ch_d=[]\n",
    "    index=[]\n",
    "    d=Get_spisok_q_nodes(K,root)\n",
    "    for i in d:\n",
    "        ch_d=(K.successors(i))#в ch_d хранятся дети q nodes\n",
    "        print 'ch_d',ch_d\n",
    "        for k in ch_d:\n",
    "            print 'k',k\n",
    "            if k==vertex:\n",
    "                print 'i',i\n",
    "                index.append(i)\n",
    "                #print 'index',index\n",
    "    if len(index)!=0:\n",
    "        K.add_node(l,atr1='p_node')\n",
    "        K.add_edge(index[0],l)\n",
    "        chil_vert=G1.successors(vertex)\n",
    "        for i in chil_vert:\n",
    "            K.add_edge(l,i)\n",
    "        K.remove_node(vertex)\n",
    "    # если добавляемая вершина в списке потомков от рута\n",
    "    pot=K.successors(root)\n",
    "    for j in pot:\n",
    "        if j==vertex:\n",
    "            K.add_node(l,atr1='p_node')\n",
    "            K.remove_edge(root,vertex)\n",
    "            chil_vert=G1.successors(vertex)\n",
    "            K.remove_node(vertex)\n",
    "            for i in chil_vert:\n",
    "                K.add_edge(l,i)\n",
    "    #просто добавление\n",
    "    K.add_node(l,atr1='p_node')\n",
    "            #K.remove_edge(root,vertex)\n",
    "    chil_vert=G1.successors(vertex)\n",
    "    for i in chil_vert:\n",
    "        K.add_edge(l,i)\n",
    "            \n",
    "    "
   ]
  },
  {
   "cell_type": "code",
   "execution_count": 80,
   "metadata": {
    "collapsed": false
   },
   "outputs": [
    {
     "name": "stdout",
     "output_type": "stream",
     "text": [
      "[(1, 8), (1, 10), (10, 9), (10, 5), (11, 4), (12, 6)]\n"
     ]
    }
   ],
   "source": [
    "print K.edges()"
   ]
  },
  {
   "cell_type": "code",
   "execution_count": 17,
   "metadata": {
    "collapsed": true
   },
   "outputs": [],
   "source": [
    "def Template_Q2(G1,K,root):\n",
    "    d=Get_spisok_q_nodes(K,root)\n",
    "    if len(d)==2:\n",
    "        for i in range(d):\n",
    "            ch_d=(K.successors(d[i]))#в ch_d хранятся дети q nodes\n",
    "            for k in ch_d:\n",
    "                if k==d[i+1]:\n",
    "                    suc=K.successors(d[1])\n",
    "                    for l in suc:\n",
    "                        K.add_edge(d[0],l)\n",
    "                    K.remove_node(d[1])\n",
    "        return 1"
   ]
  },
  {
   "cell_type": "code",
   "execution_count": 18,
   "metadata": {
    "collapsed": true
   },
   "outputs": [],
   "source": [
    "#need to repair\n",
    "def template_Q3(G1,K,root):\n",
    "    d=Get_spisok_q_nodes(K,root)\n",
    "    o=0\n",
    "    if len(d)==3:\n",
    "        ch_d=(K.successors(d[0]))\n",
    "        for k in ch_d:\n",
    "            if k in d:\n",
    "                o=o+1\n",
    "        if o==2:\n",
    "            children=K.successors(d[1])\n",
    "            for h in children:\n",
    "                K.add_edge(d[0],h)\n",
    "                K.remove_node(d[1])\n",
    "            children1=K.successors(d[2])\n",
    "            for h in children1:\n",
    "                K.add_edge(d[0],h)\n",
    "                K.remove_node(d[2])\n",
    "        return 1\n",
    "    \n",
    "            \n",
    "                \n",
    "        "
   ]
  },
  {
   "cell_type": "code",
   "execution_count": 19,
   "metadata": {
    "collapsed": false
   },
   "outputs": [
    {
     "name": "stdout",
     "output_type": "stream",
     "text": [
      "[(1, 8), (1, 2), (1, 3), (1, 5)]\n",
      "[(8, {}), (1, {'atr1': 'p_node'}), (2, {}), (3, {}), (5, {})]\n",
      "[(1, 8), (1, 2), (1, 3), (1, 5)]\n"
     ]
    }
   ],
   "source": [
    "\n",
    "K=nx.DiGraph()\n",
    "K.add_node(1,atr1='p_node')\n",
    "for i in G1.successors(1):\n",
    "    K.add_edge(1,i)\n",
    "print K.edges()\n",
    "\n",
    "arr=list(K.nodes_iter(data=True))\n",
    "print arr\n",
    "print K.edges()"
   ]
  },
  {
   "cell_type": "code",
   "execution_count": 72,
   "metadata": {
    "collapsed": false
   },
   "outputs": [],
   "source": [
    "def Algorithm(G1,K,root):\n",
    "    a=G1.nodes()\n",
    "    A={}\n",
    "    n=len(G1.nodes())\n",
    "    a.remove(1)\n",
    "    a.remove(2)\n",
    "    a.remove(3)\n",
    "    print a\n",
    "    stack=[]\n",
    "    stack.append(1)\n",
    "    stack.append(2)\n",
    "    stack.append(3)\n",
    "    mas=[]\n",
    "\n",
    "    Template_P2(G1,K,1)\n",
    "    Template_P3(G1,1,K)\n",
    "    add_new_vertex_to_tree(K,G1,1,3)\n",
    "    for i in a:\n",
    "        \n",
    "        #if Template_P3(G1,1,K)==1 or Template_P4(K,G1,root)==1 or Template_5(K,G1,root)==1 or Template_6(root,K,G1)==1 or Template_Q2(G1,K,root)==1:\n",
    "        if fist_Case(K,G1,root)==1 or second_Case(K,G1,root)==1 or Template_P4(K,G1,root)==1 or Template_5(K,G1,root)==1 or Template_6(root,K,G1)==1 or Template_Q2(G1,K,root)==1:\n",
    "            add_new_vertex_to_tree(K,G1,1,i)\n",
    "            stack.append(i)\n",
    "            suc=GG.successors(i)\n",
    "            print 'SUC'\n",
    "            stack_reversed=stack[::-1]\n",
    "            for l in stack_reversed:\n",
    "                if l in suc:\n",
    "                    mas.append(l)\n",
    "                    A[i]=mas\n",
    "        else:\n",
    "            print \"fail\"\n",
    "    #'*******************************************'\n",
    "         #A(i)=neighbours(i) \n",
    "            \n",
    "        mas=[]\n",
    "\n",
    "\n",
    "    A[n]={}\n",
    "    suc_n=GG.successors(n)\n",
    "    for l in stack:\n",
    "        if l in suc_n:\n",
    "                    mas.append(l)\n",
    "                    A[n]=mas\n",
    "    A[1]={}\n",
    "    A[2]=GG.successors(2)\n",
    "    A[3]=GG.successors(3)\n",
    "    arr=list(K.nodes_iter(data=True))\n",
    "    print arr\n",
    "    print K.edges() \n",
    "    return A\n",
    "    "
   ]
  },
  {
   "cell_type": "code",
   "execution_count": 70,
   "metadata": {
    "collapsed": false
   },
   "outputs": [
    {
     "name": "stdout",
     "output_type": "stream",
     "text": [
      "[(1, 2), (1, 3), (1, 5), (1, 6)]\n",
      "6\n",
      "[(2, 1), (3, 1), (3, 2), (4, 2), (4, 3), (5, 1), (5, 2), (5, 4), (6, 1), (6, 3), (6, 4), (6, 5)]\n"
     ]
    }
   ],
   "source": [
    "K=nx.DiGraph()\n",
    "K.add_node(1,atr1='p_node')\n",
    "for i in G1.successors(1):\n",
    "    K.add_edge(1,i)\n",
    "print K.edges()\n",
    "\n",
    "n=G1.nodes()[-1]\n",
    "print n\n",
    "GG=gettinf_D_u_graph(G1)\n",
    "print GG.edges()"
   ]
  },
  {
   "cell_type": "code",
   "execution_count": 71,
   "metadata": {
    "collapsed": false
   },
   "outputs": [
    {
     "name": "stdout",
     "output_type": "stream",
     "text": [
      "[4, 5, 6]\n",
      "fullchildren [2, 3, 5]\n",
      "i 2\n",
      "i 3\n",
      "i 5\n",
      "arr [2, 3, 5]\n",
      "d [1, 7]\n",
      "op,list p [7]\n",
      "sl {3: [4, 6], 4: [5, 6], 5: [6]}\n",
      "m 1\n",
      "m 2\n",
      "m 3\n",
      "ch_d [3, 7]\n",
      "k 3\n",
      "i 8\n",
      "k 7\n",
      "ch_d [4, 5, 6]\n",
      "k 4\n",
      "i 8\n",
      "k 5\n",
      "k 6\n",
      "SUC\n",
      "ch_d [5, 6]\n",
      "k 5\n",
      "i 8\n",
      "k 6\n",
      "SUC\n",
      "ch_d [6]\n",
      "k 6\n",
      "i 8\n",
      "SUC\n",
      "[(1, {'atr1': 'p_node'}), (2, {}), (8, {'atr1': 'q_node'}), (9, {'atr1': 'p_node'})]\n",
      "[(1, 8), (8, 9)]\n",
      "{1: {}, 2: [1], 3: [1, 2], 4: [3, 2], 5: [4, 2, 1], 6: [1, 3, 4, 5]}\n"
     ]
    }
   ],
   "source": [
    "A={}\n",
    "A=Algorithm(G1,K,1)"
   ]
  },
  {
   "cell_type": "code",
   "execution_count": 73,
   "metadata": {
    "collapsed": true
   },
   "outputs": [],
   "source": [
    "def entire_embeded(G1,GG,A):\n",
    "    mas=[]\n",
    "    for i in G1.nodes():\n",
    "        mas=A[i].items()\n",
    "        for k in mas:\n",
    "            if GG.has_edge(i,k):\n",
    "                A[k].append(i)\n",
    "        mas=[]\n",
    "    print A\n",
    "        "
   ]
  },
  {
   "cell_type": "code",
   "execution_count": null,
   "metadata": {
    "collapsed": true
   },
   "outputs": [],
   "source": [
    "def Alg_General(G1,GG):\n",
    "    K=nx.DiGraph()\n",
    "    K.add_node(1,atr1='p_node')\n",
    "    for i in G1.successors(1):\n",
    "        K.add_edge(1,i)\n",
    "    print K.edges()\n",
    "\n",
    "    n=G1.nodes()[-1]\n",
    "    print n\n",
    "    GG=gettinf_D_u_graph(G1)\n",
    "    print GG.edges()\n",
    "    A={}\n",
    "    A=Algorithm(G1,K,1)\n",
    "    entire_embeded(G1,GG,A)\n",
    "    "
   ]
  },
  {
   "cell_type": "code",
   "execution_count": 274,
   "metadata": {
    "collapsed": false
   },
   "outputs": [
    {
     "data": {
      "text/plain": [
       "1"
      ]
     },
     "execution_count": 274,
     "metadata": {},
     "output_type": "execute_result"
    }
   ],
   "source": [
    "fist_Case(K,G1,1)"
   ]
  },
  {
   "cell_type": "code",
   "execution_count": 275,
   "metadata": {
    "collapsed": false
   },
   "outputs": [
    {
     "name": "stdout",
     "output_type": "stream",
     "text": [
      "[(1, {'atr1': 'p_node'}), (5, {}), (6, {}), (8, {'atr1': 'q_node'})]\n",
      "[(1, 5), (1, 6), (1, 8), (8, 5), (8, 6)]\n"
     ]
    }
   ],
   "source": [
    "arr=list(K.nodes_iter(data=True))\n",
    "print arr\n",
    "print K.edges()"
   ]
  },
  {
   "cell_type": "code",
   "execution_count": 77,
   "metadata": {
    "collapsed": false
   },
   "outputs": [
    {
     "name": "stdout",
     "output_type": "stream",
     "text": [
      "ch_d [9, 5]\n",
      "k 9\n",
      "k 5\n"
     ]
    }
   ],
   "source": [
    "add_new_vertex_to_tree(K,G1,1,4)"
   ]
  },
  {
   "cell_type": "code",
   "execution_count": 78,
   "metadata": {
    "collapsed": false
   },
   "outputs": [
    {
     "name": "stdout",
     "output_type": "stream",
     "text": [
      "[(1, {'atr1': 'p_node'}), (2, {}), (3, {}), (4, {}), (5, {}), (6, {}), (8, {}), (9, {'atr1': 'p_node'}), (10, {'atr1': 'q_node'}), (11, {'atr1': 'p_node'}), (12, {'atr1': 'p_node'})]\n",
      "[(1, 8), (1, 10), (10, 9), (10, 5), (11, 4), (12, 6)]\n"
     ]
    }
   ],
   "source": [
    "arr=list(K.nodes_iter(data=True))\n",
    "print arr\n",
    "print K.edges()"
   ]
  },
  {
   "cell_type": "code",
   "execution_count": 282,
   "metadata": {
    "collapsed": false
   },
   "outputs": [
    {
     "data": {
      "text/plain": [
       "1"
      ]
     },
     "execution_count": 282,
     "metadata": {},
     "output_type": "execute_result"
    }
   ],
   "source": [
    "fist_Case(K,G1,1)"
   ]
  },
  {
   "cell_type": "code",
   "execution_count": 283,
   "metadata": {
    "collapsed": false
   },
   "outputs": [
    {
     "name": "stdout",
     "output_type": "stream",
     "text": [
      "[(1, {'atr1': 'p_node'}), (8, {'atr1': 'q_node'})]\n",
      "[(1, 8)]\n"
     ]
    }
   ],
   "source": [
    "arr=list(K.nodes_iter(data=True))\n",
    "print arr\n",
    "print K.edges()"
   ]
  },
  {
   "cell_type": "code",
   "execution_count": 280,
   "metadata": {
    "collapsed": false
   },
   "outputs": [
    {
     "name": "stdout",
     "output_type": "stream",
     "text": [
      "ch_d [6]\n",
      "k 6\n",
      "i 8\n"
     ]
    }
   ],
   "source": [
    "add_new_vertex_to_tree(K,G1,1,6)"
   ]
  },
  {
   "cell_type": "code",
   "execution_count": null,
   "metadata": {
    "collapsed": true
   },
   "outputs": [],
   "source": []
  }
 ],
 "metadata": {
  "kernelspec": {
   "display_name": "Python 2",
   "language": "python",
   "name": "python2"
  },
  "language_info": {
   "codemirror_mode": {
    "name": "ipython",
    "version": 2
   },
   "file_extension": ".py",
   "mimetype": "text/x-python",
   "name": "python",
   "nbconvert_exporter": "python",
   "pygments_lexer": "ipython2",
   "version": "2.7.12"
  }
 },
 "nbformat": 4,
 "nbformat_minor": 0
}
